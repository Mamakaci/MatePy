{
 "cells": [
  {
   "cell_type": "code",
   "execution_count": 17,
   "id": "8e4779f5-ac6b-4e72-82c1-06dcd6c535a6",
   "metadata": {},
   "outputs": [],
   "source": [
    "import sqlite3\n",
    "import matplotlib.pyplot as plt\n",
    "conn = sqlite3.connect('Formula1.sqlite')\n",
    "cursor = conn.cursor()\n"
   ]
  },
  {
   "cell_type": "code",
   "execution_count": 18,
   "id": "463b9b45-5c2e-46b5-9551-ec4207c0f676",
   "metadata": {},
   "outputs": [
    {
     "name": "stdout",
     "output_type": "stream",
     "text": [
      "2008 Races: [(18, 'Australian Grand Prix', 2008), (19, 'Malaysian Grand Prix', 2008), (20, 'Bahrain Grand Prix', 2008), (21, 'Spanish Grand Prix', 2008), (22, 'Turkish Grand Prix', 2008), (23, 'Monaco Grand Prix', 2008), (24, 'Canadian Grand Prix', 2008), (25, 'French Grand Prix', 2008), (26, 'British Grand Prix', 2008), (27, 'German Grand Prix', 2008), (28, 'Hungarian Grand Prix', 2008), (29, 'European Grand Prix', 2008), (30, 'Belgian Grand Prix', 2008), (31, 'Italian Grand Prix', 2008), (32, 'Singapore Grand Prix', 2008), (33, 'Japanese Grand Prix', 2008), (34, 'Chinese Grand Prix', 2008), (35, 'Brazilian Grand Prix', 2008)]\n"
     ]
    }
   ],
   "source": [
    "cursor.execute(\"SELECT raceId, name, year FROM Races WHERE year = 2008\")\n",
    "races_2008 = cursor.fetchall()\n",
    "print(\"2008 Races:\", races_2008)"
   ]
  },
  {
   "cell_type": "markdown",
   "id": "844187a6-c2aa-44ec-a70e-09ea8cd87e5f",
   "metadata": {},
   "source": [
    "driver_name = input(\"Driver Name: \")\n",
    "nationality = input(\"Nationality: \")\n",
    "cursor.execute(\n",
    "    \"INSERT INTO Drivers (forename, surname, nationality) VALUES (?, ?, ?)\",\n",
    "    (driver_name.split()[0], \" \".join(driver_name.split()[1:]), nationality)\n",
    ")\n",
    "conn.commit()\n",
    "print(f\"Inserted driver: {driver_name}, {nationality}\")"
   ]
  },
  {
   "cell_type": "code",
   "execution_count": 19,
   "id": "2ef6bbc8-d977-4b68-8fc6-26e30fdd0410",
   "metadata": {},
   "outputs": [
    {
     "name": "stdin",
     "output_type": "stream",
     "text": [
      "Driver ID to update:  6\n",
      "New Nationality:  მალტა\n"
     ]
    },
    {
     "name": "stdout",
     "output_type": "stream",
     "text": [
      "Updated driver ID 6 to nationality მალტა\n"
     ]
    }
   ],
   "source": [
    "driver_id_to_update = int(input(\"Driver ID to update: \"))\n",
    "new_nationality = input(\"New Nationality: \")\n",
    "cursor.execute(\n",
    "    \"UPDATE Drivers SET nationality = ? WHERE driverId = ?\",\n",
    "    (new_nationality, driver_id_to_update)\n",
    ")\n",
    "conn.commit()\n",
    "print(f\"Updated driver ID {driver_id_to_update} to nationality {new_nationality}\")\n"
   ]
  },
  {
   "cell_type": "code",
   "execution_count": 20,
   "id": "3b71b45d-ec2d-4f2e-8ec2-c3408ee72a47",
   "metadata": {},
   "outputs": [
    {
     "name": "stdout",
     "output_type": "stream",
     "text": [
      "Deleted drivers named 'Test Driver'\n"
     ]
    }
   ],
   "source": [
    "cursor.execute(\"DELETE FROM Drivers WHERE forename = ? AND surname = ?\", (\"Test\", \"Driver\"))\n",
    "conn.commit()\n",
    "print(\"Deleted drivers named 'Test Driver'\")\n"
   ]
  },
  {
   "cell_type": "code",
   "execution_count": 22,
   "id": "e0211c07-1deb-4c2a-a419-ca1e49300c7c",
   "metadata": {},
   "outputs": [
    {
     "data": {
      "image/png": "[encoded data removed]",
      "text/plain": [
       "<Figure size 640x480 with 1 Axes>"
      ]
     },
     "metadata": {},
     "output_type": "display_data"
    }
   ],
   "source": [
    "cursor.execute(\"SELECT year, COUNT(*) FROM Races GROUP BY year\")\n",
    "data = cursor.fetchall()\n",
    "years = [row[0] for row in data]\n",
    "counts= [row[1] for row in data]\n",
    "plt.figure()\n",
    "plt.bar(years, counts)\n",
    "plt.xlabel(\"წელი\")\n",
    "plt.ylabel(\"რაოდენობა\")\n",
    "plt.title(\"რბოლათა ოდენობა წლების მიხედვით\")\n",
    "plt.show()\n",
    "#ცხადია, ყოველ წელს იგივე რაოდენობის რბოლები არ იმართებოდა. აქ ჩანს თუ როგორ იმატებს წლების განმავლობაში რბოლათა რაოდენობა"
   ]
  },
  {
   "cell_type": "code",
   "execution_count": 23,
   "id": "0bf693ad-5b29-4cd8-955e-2db4f644c0fe",
   "metadata": {},
   "outputs": [],
   "source": [
    "conn.close()\n"
   ]
  }
 ],
 "metadata": {
  "kernelspec": {
   "display_name": "Python 3 (ipykernel)",
   "language": "python",
   "name": "python3"
  },
  "language_info": {
   "codemirror_mode": {
    "name": "ipython",
    "version": 3
   },
   "file_extension": ".py",
   "mimetype": "text/x-python",
   "name": "python",
   "nbconvert_exporter": "python",
   "pygments_lexer": "ipython3",
   "version": "3.12.6"
  }
 },
 "nbformat": 4,
 "nbformat_minor": 5
}
